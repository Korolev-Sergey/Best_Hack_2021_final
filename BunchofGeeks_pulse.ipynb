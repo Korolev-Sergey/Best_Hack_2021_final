{
  "nbformat": 4,
  "nbformat_minor": 0,
  "metadata": {
    "colab": {
      "name": "BunchofGeeks_pulse.ipynb",
      "provenance": [],
      "collapsed_sections": [],
      "authorship_tag": "ABX9TyNnfs4lQ1VBSInFiiQf9Qfx",
      "include_colab_link": true
    },
    "kernelspec": {
      "name": "python3",
      "display_name": "Python 3"
    },
    "language_info": {
      "name": "python"
    }
  },
  "cells": [
    {
      "cell_type": "markdown",
      "metadata": {
        "id": "view-in-github",
        "colab_type": "text"
      },
      "source": [
        "<a href=\"https://colab.research.google.com/github/Korolev-Sergey/Best_Hack_2021_final/blob/main/BunchofGeeks_pulse.ipynb\" target=\"_parent\"><img src=\"https://colab.research.google.com/assets/colab-badge.svg\" alt=\"Open In Colab\"/></a>"
      ]
    },
    {
      "cell_type": "code",
      "metadata": {
        "id": "nZ-2Nrak4XIK"
      },
      "source": [
        "import cv2     # for capturing videos\n",
        "import math   # for mathematical operations\n",
        "import matplotlib.pyplot as plt    # for plotting the images\n",
        "%matplotlib inline\n",
        "import pandas as pd\n",
        "from keras.preprocessing import image   # for preprocessing the images\n",
        "import numpy as np    # for mathematical operations\n",
        "from keras.utils import np_utils\n",
        "from skimage.transform import resize   # for resizing images\n",
        "from sklearn.model_selection import train_test_split\n",
        "from glob import glob\n",
        "from tqdm import tqdm\n",
        "\n",
        "from google_drive_downloader import GoogleDriveDownloader as gdd\n",
        "from google.colab.patches import cv2_imshow"
      ],
      "execution_count": null,
      "outputs": []
    },
    {
      "cell_type": "code",
      "metadata": {
        "id": "CHV1pRA54jBh"
      },
      "source": [
        "!mkdir Train\n",
        "!mkdir Test"
      ],
      "execution_count": null,
      "outputs": []
    },
    {
      "cell_type": "code",
      "metadata": {
        "colab": {
          "base_uri": "https://localhost:8080/"
        },
        "id": "avpBJBOOmKcQ",
        "outputId": "172c9ecc-b591-4f59-9bb3-0c1643a2c5c4"
      },
      "source": [
        "import numpy as np\n",
        "import matplotlib.pyplot as plt\n",
        "import seaborn as sns\n",
        "sns.set_style(\"dark\")\n",
        "plt.rcParams['figure.figsize'] = 16, 12\n",
        "import pandas as pd\n",
        "from PIL import Image\n",
        "from tqdm import tqdm_notebook\n",
        "from skimage import transform\n",
        "import itertools as it\n",
        "from sklearn.neighbors.kde import KernelDensity\n",
        "import matplotlib.cm as cm\n",
        "import queue\n",
        "from skimage import morphology\n",
        "import dlib\n",
        "import cv2\n",
        "import io\n",
        "import time\n",
        "from imutils import face_utils\n",
        "from scipy.spatial import Delaunay\n",
        "\n",
        "from scipy.signal import find_peaks\n",
        "from scipy.signal import savgol_filter\n",
        "from scipy.signal import medfilt\n",
        "from scipy.interpolate import interp1d"
      ],
      "execution_count": null,
      "outputs": [
        {
          "output_type": "stream",
          "text": [
            "/usr/local/lib/python3.7/dist-packages/sklearn/utils/deprecation.py:144: FutureWarning: The sklearn.neighbors.kde module is  deprecated in version 0.22 and will be removed in version 0.24. The corresponding classes / functions should instead be imported from sklearn.neighbors. Anything that cannot be imported from sklearn.neighbors is now part of the private API.\n",
            "  warnings.warn(message, FutureWarning)\n"
          ],
          "name": "stderr"
        }
      ]
    },
    {
      "cell_type": "code",
      "metadata": {
        "id": "aUNCLGlE4oFJ"
      },
      "source": [
        "# videos_train = [\n",
        "#                 'https://drive.google.com/file/d/17Yx58VEiZivlbF8RWbe13VItCkUULoFk/view?usp=sharing',\n",
        "#                 'https://drive.google.com/file/d/1mT2gXOWhkk_Mg7rYN7CRUwfgjTz-Dy1K/view?usp=sharing',\n",
        "#                 'https://drive.google.com/file/d/1u5cb36lKSRlCf_ca8uPMfZMYKqTPB91k/view?usp=sharing',\n",
        "#                 'https://drive.google.com/file/d/11ssqpN_ZnJrKmhf7hhmlw_tsyn74AaPI/view?usp=sharing',\n",
        "#                 'https://drive.google.com/file/d/1Wdsw2f_y0dWzkfI7rZvDJjNL7_fzNJUm/view?usp=sharing',\n",
        "#                 'https://drive.google.com/file/d/1iUMizR0WvmfBtSEAdH2lz4oU1Wy87THZ/view?usp=sharing',\n",
        "#                 'https://drive.google.com/file/d/1UYSv2ebdH9lZJ6HHTeZY75iXD_gNMheB/view?usp=sharing'\n",
        "# ]\n",
        "# breathing_type = [1, 1, 0, 1, 1, 1, 0]"
      ],
      "execution_count": null,
      "outputs": []
    },
    {
      "cell_type": "code",
      "metadata": {
        "id": "l_OKal9k4r71"
      },
      "source": [
        "# train = []\n",
        "# for i, link in enumerate(videos_train):\n",
        "#   id = link[link.find('/d/') + 3:link.find('/view')]\n",
        "#   gdd.download_file_from_google_drive(file_id=id,\n",
        "#                                       dest_path='./Train/train_{}.MOV'.format(i))\n",
        "#   train.append({'video_name': 'train_{}.MOV'.format(i)})\n",
        "# train = pd.DataFrame(train)\n",
        "# train['tag'] = breathing_type"
      ],
      "execution_count": null,
      "outputs": []
    },
    {
      "cell_type": "code",
      "metadata": {
        "colab": {
          "base_uri": "https://localhost:8080/"
        },
        "id": "NLORY3KWPuf5",
        "outputId": "9e0aebfd-0e1b-4c9f-9672-8034f85b8f43"
      },
      "source": [
        "from google.colab import drive\n",
        "drive.mount('/content/drive')"
      ],
      "execution_count": null,
      "outputs": [
        {
          "output_type": "stream",
          "text": [
            "Mounted at /content/drive\n"
          ],
          "name": "stdout"
        }
      ]
    },
    {
      "cell_type": "code",
      "metadata": {
        "colab": {
          "base_uri": "https://localhost:8080/"
        },
        "id": "GtqR-3uiQBAO",
        "outputId": "7d6ca577-3511-4f98-a560-44e468f8601a"
      },
      "source": [
        "!unzip /content/drive/MyDrive/Test_vid.zip -d /content/Test\n",
        "!unzip /content/drive/MyDrive/Train_vids.zip -d /content/Train"
      ],
      "execution_count": null,
      "outputs": [
        {
          "output_type": "stream",
          "text": [
            "Archive:  /content/drive/MyDrive/Test_vid.zip\n",
            "  inflating: /content/Test/Видео для теста.MOV  \n",
            "Archive:  /content/drive/MyDrive/Train_vids.zip\n",
            "  inflating: /content/Train/видео по 1 шаблону пульс 90-80.MOV  \n",
            "  inflating: /content/Train/видео по 4 шаблону пульс 154.MOV  \n",
            "  inflating: /content/Train/видос по 2 шаблону.MOV  \n",
            "  inflating: /content/Train/пульс 116-90.MOV  \n",
            "  inflating: /content/Train/пульс 142-108 3-4 шаблон.MOV  \n",
            "  inflating: /content/Train/пульс 160-150 4 шаблон.MOV  \n",
            "  inflating: /content/Train/пульс 90-80 видео по 2 шаблону.MOV  \n",
            "  inflating: /content/Train/спокойное дыхание по 1 шаблону.MOV  \n",
            "  inflating: /content/Train/спокойное дыхание пульс 90.MOV  \n"
          ],
          "name": "stdout"
        }
      ]
    },
    {
      "cell_type": "code",
      "metadata": {
        "id": "8pP-Sq3tzr22"
      },
      "source": [
        "# Видео на которых размечен пульс\n",
        "videos_pulse = ['видео по 1 шаблону пульс 90-80',\n",
        "                'видео по 4 шаблону пульс 154',\n",
        "                'пульс 90-80 видео по 2 шаблону',\n",
        "                'пульс 116-90',\n",
        "                'пульс 142-108 3-4 шаблон',\n",
        "                'пульс 160-150 4 шаблон',\n",
        "                'спокойное дыхание пульс 90']"
      ],
      "execution_count": null,
      "outputs": []
    },
    {
      "cell_type": "code",
      "metadata": {
        "colab": {
          "base_uri": "https://localhost:8080/",
          "height": 415
        },
        "id": "Ib2xCMvbz8nw",
        "outputId": "b04bc759-6d9d-4eba-d175-905f2cdd8f2d"
      },
      "source": [
        "# Делаем датафрейм под раскажровку пульса\n",
        "df_targets = pd.DataFrame(columns=['video', 'heartbeat_times'])\n",
        "for video in videos_pulse:\n",
        "  cap = cv2.VideoCapture('/content/Train/' + video + '.MOV')\n",
        "  fps = cap.get(cv2.CAP_PROP_FPS)      # OpenCV2 version 2 used \"CV_CAP_PROP_FPS\"\n",
        "  frame_count = int(cap.get(cv2.CAP_PROP_FRAME_COUNT))\n",
        "  heartbeat_times = np.arange(0, frame_count/fps, 1 / fps)\n",
        "  empty_list = []\n",
        "  for i in heartbeat_times:\n",
        "    empty_list.append({'heartbeat_times': i})\n",
        "  temp_df = pd.DataFrame(empty_list)\n",
        "  temp_df['video'] = video\n",
        "  try:\n",
        "    df_targets = pd.concat([df_targets, temp_df])\n",
        "  except: \n",
        "    pass\n",
        "\n",
        "df_targets"
      ],
      "execution_count": null,
      "outputs": [
        {
          "output_type": "execute_result",
          "data": {
            "text/html": [
              "<div>\n",
              "<style scoped>\n",
              "    .dataframe tbody tr th:only-of-type {\n",
              "        vertical-align: middle;\n",
              "    }\n",
              "\n",
              "    .dataframe tbody tr th {\n",
              "        vertical-align: top;\n",
              "    }\n",
              "\n",
              "    .dataframe thead th {\n",
              "        text-align: right;\n",
              "    }\n",
              "</style>\n",
              "<table border=\"1\" class=\"dataframe\">\n",
              "  <thead>\n",
              "    <tr style=\"text-align: right;\">\n",
              "      <th></th>\n",
              "      <th>video</th>\n",
              "      <th>heartbeat_times</th>\n",
              "    </tr>\n",
              "  </thead>\n",
              "  <tbody>\n",
              "    <tr>\n",
              "      <th>0</th>\n",
              "      <td>видео по 1 шаблону пульс 90-80</td>\n",
              "      <td>0.000000</td>\n",
              "    </tr>\n",
              "    <tr>\n",
              "      <th>1</th>\n",
              "      <td>видео по 1 шаблону пульс 90-80</td>\n",
              "      <td>0.033362</td>\n",
              "    </tr>\n",
              "    <tr>\n",
              "      <th>2</th>\n",
              "      <td>видео по 1 шаблону пульс 90-80</td>\n",
              "      <td>0.066724</td>\n",
              "    </tr>\n",
              "    <tr>\n",
              "      <th>3</th>\n",
              "      <td>видео по 1 шаблону пульс 90-80</td>\n",
              "      <td>0.100086</td>\n",
              "    </tr>\n",
              "    <tr>\n",
              "      <th>4</th>\n",
              "      <td>видео по 1 шаблону пульс 90-80</td>\n",
              "      <td>0.133448</td>\n",
              "    </tr>\n",
              "    <tr>\n",
              "      <th>...</th>\n",
              "      <td>...</td>\n",
              "      <td>...</td>\n",
              "    </tr>\n",
              "    <tr>\n",
              "      <th>2063</th>\n",
              "      <td>спокойное дыхание пульс 90</td>\n",
              "      <td>68.791606</td>\n",
              "    </tr>\n",
              "    <tr>\n",
              "      <th>2064</th>\n",
              "      <td>спокойное дыхание пульс 90</td>\n",
              "      <td>68.824952</td>\n",
              "    </tr>\n",
              "    <tr>\n",
              "      <th>2065</th>\n",
              "      <td>спокойное дыхание пульс 90</td>\n",
              "      <td>68.858297</td>\n",
              "    </tr>\n",
              "    <tr>\n",
              "      <th>2066</th>\n",
              "      <td>спокойное дыхание пульс 90</td>\n",
              "      <td>68.891642</td>\n",
              "    </tr>\n",
              "    <tr>\n",
              "      <th>2067</th>\n",
              "      <td>спокойное дыхание пульс 90</td>\n",
              "      <td>68.924988</td>\n",
              "    </tr>\n",
              "  </tbody>\n",
              "</table>\n",
              "<p>12213 rows × 2 columns</p>\n",
              "</div>"
            ],
            "text/plain": [
              "                               video  heartbeat_times\n",
              "0     видео по 1 шаблону пульс 90-80         0.000000\n",
              "1     видео по 1 шаблону пульс 90-80         0.033362\n",
              "2     видео по 1 шаблону пульс 90-80         0.066724\n",
              "3     видео по 1 шаблону пульс 90-80         0.100086\n",
              "4     видео по 1 шаблону пульс 90-80         0.133448\n",
              "...                              ...              ...\n",
              "2063      спокойное дыхание пульс 90        68.791606\n",
              "2064      спокойное дыхание пульс 90        68.824952\n",
              "2065      спокойное дыхание пульс 90        68.858297\n",
              "2066      спокойное дыхание пульс 90        68.891642\n",
              "2067      спокойное дыхание пульс 90        68.924988\n",
              "\n",
              "[12213 rows x 2 columns]"
            ]
          },
          "metadata": {
            "tags": []
          },
          "execution_count": 143
        }
      ]
    },
    {
      "cell_type": "code",
      "metadata": {
        "id": "0DANb1Lz3lyc"
      },
      "source": [
        "# Функцию разметки пульса делаем руками\n",
        "def get_target_pulse(row):\n",
        "  if row['video'] == 'видео по 1 шаблону пульс 90-80':\n",
        "    return 1\n",
        "  elif row['video'] == 'пульс 90-80 видео по 2 шаблону':\n",
        "    return 1\n",
        "  elif row['video'] == 'пульс 160-150 4 шаблон':\n",
        "    return 4\n",
        "  elif (row['video'] == 'видео по 4 шаблону пульс 154') & (row['heartbeat_times'] < 15):\n",
        "    return 4\n",
        "  elif (row['video'] == 'видео по 4 шаблону пульс 154') & (row['heartbeat_times'] >= 15):\n",
        "    return 3\n",
        "  elif (row['video'] =='пульс 116-90') & (row['heartbeat_times'] < 52):\n",
        "    return 2\n",
        "  elif (row['video'] =='пульс 116-90') & (row['heartbeat_times'] >= 52):\n",
        "    return 1\n",
        "  elif (row['video'] =='пульс 142-108 3-4 шаблон') & (row['heartbeat_times'] < 22):\n",
        "    return 3\n",
        "  elif (row['video'] =='пульс 142-108 3-4 шаблон') & (row['heartbeat_times'] >= 22):\n",
        "    return 2\n",
        "  elif (row['video'] == 'спокойное дыхание пульс 90') & (row['heartbeat_times'] < 18):\n",
        "    return 1\n",
        "  else:\n",
        "    return 2"
      ],
      "execution_count": null,
      "outputs": []
    },
    {
      "cell_type": "code",
      "metadata": {
        "colab": {
          "base_uri": "https://localhost:8080/",
          "height": 141
        },
        "id": "Y57FZXQn5_j3",
        "outputId": "2fd3228a-8d2f-49cc-d7c2-86b397c19212"
      },
      "source": [
        "# Определяем бин таргета\n",
        "df_targets['target_bin'] = df_targets.apply(get_target_pulse, axis = 1)\n",
        "df_targets.head(3)"
      ],
      "execution_count": null,
      "outputs": [
        {
          "output_type": "execute_result",
          "data": {
            "text/html": [
              "<div>\n",
              "<style scoped>\n",
              "    .dataframe tbody tr th:only-of-type {\n",
              "        vertical-align: middle;\n",
              "    }\n",
              "\n",
              "    .dataframe tbody tr th {\n",
              "        vertical-align: top;\n",
              "    }\n",
              "\n",
              "    .dataframe thead th {\n",
              "        text-align: right;\n",
              "    }\n",
              "</style>\n",
              "<table border=\"1\" class=\"dataframe\">\n",
              "  <thead>\n",
              "    <tr style=\"text-align: right;\">\n",
              "      <th></th>\n",
              "      <th>video</th>\n",
              "      <th>heartbeat_times</th>\n",
              "      <th>target_bin</th>\n",
              "    </tr>\n",
              "  </thead>\n",
              "  <tbody>\n",
              "    <tr>\n",
              "      <th>0</th>\n",
              "      <td>видео по 1 шаблону пульс 90-80</td>\n",
              "      <td>0.000000</td>\n",
              "      <td>1</td>\n",
              "    </tr>\n",
              "    <tr>\n",
              "      <th>1</th>\n",
              "      <td>видео по 1 шаблону пульс 90-80</td>\n",
              "      <td>0.033362</td>\n",
              "      <td>1</td>\n",
              "    </tr>\n",
              "    <tr>\n",
              "      <th>2</th>\n",
              "      <td>видео по 1 шаблону пульс 90-80</td>\n",
              "      <td>0.066724</td>\n",
              "      <td>1</td>\n",
              "    </tr>\n",
              "  </tbody>\n",
              "</table>\n",
              "</div>"
            ],
            "text/plain": [
              "                            video  heartbeat_times  target_bin\n",
              "0  видео по 1 шаблону пульс 90-80         0.000000           1\n",
              "1  видео по 1 шаблону пульс 90-80         0.033362           1\n",
              "2  видео по 1 шаблону пульс 90-80         0.066724           1"
            ]
          },
          "metadata": {
            "tags": []
          },
          "execution_count": 145
        }
      ]
    },
    {
      "cell_type": "code",
      "metadata": {
        "id": "GbfyzKn29SnM"
      },
      "source": [
        "# Вытаскиваем кадр относящийся к 5 секунде видео, чтобы быть уверенными что человек уже стоит\n",
        "def sec_5_cadr(video, folder='Train/'):\n",
        "  cap = cv2.VideoCapture('/content/' + folder + video + '.MOV')\n",
        "  cap.set(cv2.CAP_PROP_POS_MSEC, 5000)      # just cue to 20 sec. position\n",
        "  success, image = cap.read()\n",
        "  return image"
      ],
      "execution_count": null,
      "outputs": []
    },
    {
      "cell_type": "code",
      "metadata": {
        "colab": {
          "base_uri": "https://localhost:8080/"
        },
        "id": "Syh_tq8XmQuu",
        "outputId": "f15db873-b1ab-45d5-ff54-c911417ec558"
      },
      "source": [
        "!wget http://dlib.net/files/shape_predictor_68_face_landmarks.dat.bz2\n",
        "!tar xvjf shape_predictor_68_face_landmarks.dat.bz2\n",
        "!bunzip2 /content/shape_predictor_68_face_landmarks.dat.bz2"
      ],
      "execution_count": null,
      "outputs": [
        {
          "output_type": "stream",
          "text": [
            "--2021-03-27 02:45:19--  http://dlib.net/files/shape_predictor_68_face_landmarks.dat.bz2\n",
            "Resolving dlib.net (dlib.net)... 107.180.26.78\n",
            "Connecting to dlib.net (dlib.net)|107.180.26.78|:80... connected.\n",
            "HTTP request sent, awaiting response... 200 OK\n",
            "Length: 64040097 (61M)\n",
            "Saving to: ‘shape_predictor_68_face_landmarks.dat.bz2’\n",
            "\n",
            "shape_predictor_68_ 100%[===================>]  61.07M  15.0MB/s    in 6.4s    \n",
            "\n",
            "2021-03-27 02:45:26 (9.54 MB/s) - ‘shape_predictor_68_face_landmarks.dat.bz2’ saved [64040097/64040097]\n",
            "\n",
            "tar: This does not look like a tar archive\n",
            "tar: Skipping to next header\n",
            "tar: Exiting with failure status due to previous errors\n"
          ],
          "name": "stdout"
        }
      ]
    },
    {
      "cell_type": "code",
      "metadata": {
        "id": "x3FrDndU9iht"
      },
      "source": [
        "# Функция выделения на видео\n",
        "def get_bbox(image):\n",
        "  detector = dlib.get_frontal_face_detector()\n",
        "  # инстанцируем класс для детекции ключевых точек\n",
        "  predictor = dlib.shape_predictor('/content/shape_predictor_68_face_landmarks.dat')\n",
        "\n",
        "  img = image\n",
        "  # конвертируем изображение в много оттенков серого\n",
        "  img_gray = cv2.cvtColor(img, cv2.COLOR_BGR2GRAY)\n",
        "  # вычисляем список рамок на каждое найденное лицо\n",
        "  rects = detector(img_gray, 0)\n",
        "  # вычисляем ключевые точки\n",
        "  shape = predictor(img_gray, rects[0])\n",
        "  shape = face_utils.shape_to_np(shape)\n",
        "\n",
        "  # оригинальная рамка\n",
        "  face_origin = sorted([(t.width()*t.height(), \n",
        "                        (t.left(), t.top(), t.width(), t.height())) \n",
        "                        for t in rects], \n",
        "                      key=lambda t: t[0], reverse=True)[0][1]\n",
        "  return face_origin"
      ],
      "execution_count": null,
      "outputs": []
    },
    {
      "cell_type": "code",
      "metadata": {
        "id": "PUJ13iX6VrNi"
      },
      "source": [
        "# Функция распознавания пульса\n",
        "def predict_pulse(video, face_origin, df_to_be_extended, folder='Train/'):\n",
        "  cap = cv2.VideoCapture('/content/' + folder + video + '.MOV')\n",
        "  cap.set(cv2.CAP_PROP_FRAME_WIDTH, 1920)\n",
        "  cap.set(cv2.CAP_PROP_FRAME_HEIGHT, 1080)\n",
        "  cap.set(cv2.CAP_PROP_FPS, 30)\n",
        "\n",
        "  heartbeat_count = 128\n",
        "  heartbeat_values = [0]*heartbeat_count\n",
        "  heartbeat_times = [0]*heartbeat_count\n",
        "\n",
        "  while(True):\n",
        "      ret, frame = cap.read()\n",
        "\n",
        "      # Our operations on the frame come here\n",
        "      try:\n",
        "        img = cv2.cvtColor(frame, cv2.COLOR_BGR2GRAY)\n",
        "      except:\n",
        "        break\n",
        "      x, y, w, h = face_origin\n",
        "      crop_img = img[y:y + h, x:x + w]\n",
        "\n",
        "      # Update the list\n",
        "      heartbeat_values = heartbeat_values[:] + [np.average(crop_img)]\n",
        "      heartbeat_times = heartbeat_times[:] + [heartbeat_times[-1]+1/30]\n",
        "\n",
        "  cap.release()\n",
        "  cv2.destroyAllWindows()\n",
        "\n",
        "  # Отсекаем начальные значения\n",
        "  heartbeat_values1 = np.array([val for val in heartbeat_values if val !=0])\n",
        "  heartbeat_times1 = heartbeat_times[len(heartbeat_values)-len(heartbeat_values1):]\n",
        "\n",
        "  #Определяем пульс\n",
        "  x = savgol_filter(heartbeat_values1, 5, polyorder=2)\n",
        "  x = medfilt(x, 3)\n",
        "  peaks, _= find_peaks(x, distance=10)\n",
        "\n",
        "  pulse = []\n",
        "  for i in range(len(peaks)-1):\n",
        "    pulse.append(1800 / (peaks[i+1]-peaks[i]))\n",
        "  pulse = medfilt(pulse, 15)\n",
        "  pulse = np.insert(pulse, 0, pulse.mean())\n",
        "  f = interp1d(peaks, pulse, kind='slinear')\n",
        "  per = np.arange(peaks.min(), peaks.max())\n",
        "  x_new = f(per)\n",
        "\n",
        "\n",
        "  # Дописываем датафрейм\n",
        "  empty_list = []\n",
        "  for i,j in zip(x_new, per / 30):\n",
        "    empty_list.append({'heartbeat_values_model': i, 'heartbeat_times_model': j})\n",
        "  temp_df = pd.DataFrame(empty_list)\n",
        "  temp_df['video'] = video\n",
        "\n",
        "  try:\n",
        "    df_to_be_extended = pd.concat([df_to_be_extended, temp_df])\n",
        "  except: \n",
        "    pass\n",
        "  \n",
        "  return df_to_be_extended"
      ],
      "execution_count": null,
      "outputs": []
    },
    {
      "cell_type": "code",
      "metadata": {
        "colab": {
          "base_uri": "https://localhost:8080/",
          "height": 141
        },
        "id": "9OCVyF6_8q0y",
        "outputId": "c569cf57-21ad-4379-8523-d1dec0302d26"
      },
      "source": [
        "# Определяем пульс по видео, где он был размечен\n",
        "df_to_be_extended = pd.DataFrame(columns=['heartbeat_values_model', 'heartbeat_times_model', 'video'])\n",
        "\n",
        "for video in videos_pulse:\n",
        "  image = sec_5_cadr(video)\n",
        "  face_origin = get_bbox(image)\n",
        "  df_to_be_extended = predict_pulse(video, face_origin, df_to_be_extended)\n",
        "\n",
        "df_to_be_extended.head(3)"
      ],
      "execution_count": null,
      "outputs": [
        {
          "output_type": "execute_result",
          "data": {
            "text/html": [
              "<div>\n",
              "<style scoped>\n",
              "    .dataframe tbody tr th:only-of-type {\n",
              "        vertical-align: middle;\n",
              "    }\n",
              "\n",
              "    .dataframe tbody tr th {\n",
              "        vertical-align: top;\n",
              "    }\n",
              "\n",
              "    .dataframe thead th {\n",
              "        text-align: right;\n",
              "    }\n",
              "</style>\n",
              "<table border=\"1\" class=\"dataframe\">\n",
              "  <thead>\n",
              "    <tr style=\"text-align: right;\">\n",
              "      <th></th>\n",
              "      <th>heartbeat_values_model</th>\n",
              "      <th>heartbeat_times_model</th>\n",
              "      <th>video</th>\n",
              "    </tr>\n",
              "  </thead>\n",
              "  <tbody>\n",
              "    <tr>\n",
              "      <th>0</th>\n",
              "      <td>79.362904</td>\n",
              "      <td>0.633333</td>\n",
              "      <td>видео по 1 шаблону пульс 90-80</td>\n",
              "    </tr>\n",
              "    <tr>\n",
              "      <th>1</th>\n",
              "      <td>76.655282</td>\n",
              "      <td>0.666667</td>\n",
              "      <td>видео по 1 шаблону пульс 90-80</td>\n",
              "    </tr>\n",
              "    <tr>\n",
              "      <th>2</th>\n",
              "      <td>73.947661</td>\n",
              "      <td>0.700000</td>\n",
              "      <td>видео по 1 шаблону пульс 90-80</td>\n",
              "    </tr>\n",
              "  </tbody>\n",
              "</table>\n",
              "</div>"
            ],
            "text/plain": [
              "   heartbeat_values_model  ...                           video\n",
              "0               79.362904  ...  видео по 1 шаблону пульс 90-80\n",
              "1               76.655282  ...  видео по 1 шаблону пульс 90-80\n",
              "2               73.947661  ...  видео по 1 шаблону пульс 90-80\n",
              "\n",
              "[3 rows x 3 columns]"
            ]
          },
          "metadata": {
            "tags": []
          },
          "execution_count": 181
        }
      ]
    },
    {
      "cell_type": "code",
      "metadata": {
        "id": "n4gKqBCjuTvL"
      },
      "source": [
        "# Функция бинерезации\n",
        "def get_bin(row):\n",
        "  if row['heartbeat_values_model'] < 90:\n",
        "    return 1\n",
        "  elif row['heartbeat_values_model'] >= 90 and row['heartbeat_values_model'] < 120:\n",
        "    return 2\n",
        "  elif row['heartbeat_values_model'] >= 120 and row['heartbeat_values_model'] < 150:\n",
        "    return 3\n",
        "  else:\n",
        "    return 4"
      ],
      "execution_count": null,
      "outputs": []
    },
    {
      "cell_type": "code",
      "metadata": {
        "colab": {
          "base_uri": "https://localhost:8080/",
          "height": 141
        },
        "id": "K6VTX9jeva2J",
        "outputId": "3b8a0daa-541c-448c-daff-d84dd954bfff"
      },
      "source": [
        "# Переводим предсказания в бины\n",
        "df_to_be_extended['predicted_bin'] = df_to_be_extended.apply(get_bin, axis=1)\n",
        "df_to_be_extended.head(3)"
      ],
      "execution_count": null,
      "outputs": [
        {
          "output_type": "execute_result",
          "data": {
            "text/html": [
              "<div>\n",
              "<style scoped>\n",
              "    .dataframe tbody tr th:only-of-type {\n",
              "        vertical-align: middle;\n",
              "    }\n",
              "\n",
              "    .dataframe tbody tr th {\n",
              "        vertical-align: top;\n",
              "    }\n",
              "\n",
              "    .dataframe thead th {\n",
              "        text-align: right;\n",
              "    }\n",
              "</style>\n",
              "<table border=\"1\" class=\"dataframe\">\n",
              "  <thead>\n",
              "    <tr style=\"text-align: right;\">\n",
              "      <th></th>\n",
              "      <th>heartbeat_values_model</th>\n",
              "      <th>heartbeat_times_model</th>\n",
              "      <th>video</th>\n",
              "      <th>predicted_bin</th>\n",
              "    </tr>\n",
              "  </thead>\n",
              "  <tbody>\n",
              "    <tr>\n",
              "      <th>0</th>\n",
              "      <td>79.362904</td>\n",
              "      <td>0.633333</td>\n",
              "      <td>видео по 1 шаблону пульс 90-80</td>\n",
              "      <td>1</td>\n",
              "    </tr>\n",
              "    <tr>\n",
              "      <th>1</th>\n",
              "      <td>76.655282</td>\n",
              "      <td>0.666667</td>\n",
              "      <td>видео по 1 шаблону пульс 90-80</td>\n",
              "      <td>1</td>\n",
              "    </tr>\n",
              "    <tr>\n",
              "      <th>2</th>\n",
              "      <td>73.947661</td>\n",
              "      <td>0.700000</td>\n",
              "      <td>видео по 1 шаблону пульс 90-80</td>\n",
              "      <td>1</td>\n",
              "    </tr>\n",
              "  </tbody>\n",
              "</table>\n",
              "</div>"
            ],
            "text/plain": [
              "   heartbeat_values_model  ...  predicted_bin\n",
              "0               79.362904  ...              1\n",
              "1               76.655282  ...              1\n",
              "2               73.947661  ...              1\n",
              "\n",
              "[3 rows x 4 columns]"
            ]
          },
          "metadata": {
            "tags": []
          },
          "execution_count": 183
        }
      ]
    },
    {
      "cell_type": "code",
      "metadata": {
        "id": "Mfr5sQ-0NwMY"
      },
      "source": [
        "df_to_be_extended.to_excel('Pulse.xlsx')"
      ],
      "execution_count": null,
      "outputs": []
    },
    {
      "cell_type": "code",
      "metadata": {
        "colab": {
          "base_uri": "https://localhost:8080/",
          "height": 141
        },
        "id": "ZOdW_4xtPY-D",
        "outputId": "45244039-319d-443a-bd65-081f58f73c5b"
      },
      "source": [
        "# Округляем моменты измерения пульса\n",
        "df_targets['heartbeat_times'] = df_targets['heartbeat_times'].apply(lambda x: np.round(x, 3))\n",
        "df_targets.head(3)"
      ],
      "execution_count": null,
      "outputs": [
        {
          "output_type": "execute_result",
          "data": {
            "text/html": [
              "<div>\n",
              "<style scoped>\n",
              "    .dataframe tbody tr th:only-of-type {\n",
              "        vertical-align: middle;\n",
              "    }\n",
              "\n",
              "    .dataframe tbody tr th {\n",
              "        vertical-align: top;\n",
              "    }\n",
              "\n",
              "    .dataframe thead th {\n",
              "        text-align: right;\n",
              "    }\n",
              "</style>\n",
              "<table border=\"1\" class=\"dataframe\">\n",
              "  <thead>\n",
              "    <tr style=\"text-align: right;\">\n",
              "      <th></th>\n",
              "      <th>video</th>\n",
              "      <th>heartbeat_times</th>\n",
              "      <th>target_bin</th>\n",
              "    </tr>\n",
              "  </thead>\n",
              "  <tbody>\n",
              "    <tr>\n",
              "      <th>0</th>\n",
              "      <td>видео по 1 шаблону пульс 90-80</td>\n",
              "      <td>0.000</td>\n",
              "      <td>1</td>\n",
              "    </tr>\n",
              "    <tr>\n",
              "      <th>1</th>\n",
              "      <td>видео по 1 шаблону пульс 90-80</td>\n",
              "      <td>0.033</td>\n",
              "      <td>1</td>\n",
              "    </tr>\n",
              "    <tr>\n",
              "      <th>2</th>\n",
              "      <td>видео по 1 шаблону пульс 90-80</td>\n",
              "      <td>0.067</td>\n",
              "      <td>1</td>\n",
              "    </tr>\n",
              "  </tbody>\n",
              "</table>\n",
              "</div>"
            ],
            "text/plain": [
              "                            video  heartbeat_times  target_bin\n",
              "0  видео по 1 шаблону пульс 90-80            0.000           1\n",
              "1  видео по 1 шаблону пульс 90-80            0.033           1\n",
              "2  видео по 1 шаблону пульс 90-80            0.067           1"
            ]
          },
          "metadata": {
            "tags": []
          },
          "execution_count": 191
        }
      ]
    },
    {
      "cell_type": "code",
      "metadata": {
        "colab": {
          "base_uri": "https://localhost:8080/",
          "height": 141
        },
        "id": "i521hf-7Q6WX",
        "outputId": "f608b0e1-0731-41f6-c51a-101ef274df1e"
      },
      "source": [
        "# Округляем моменты измерения пульса\n",
        "df_to_be_extended['heartbeat_times_model'] = \\\n",
        "df_to_be_extended['heartbeat_times_model'].apply(lambda x: np.round(x, 3))\n",
        "df_to_be_extended.head(3)"
      ],
      "execution_count": null,
      "outputs": [
        {
          "output_type": "execute_result",
          "data": {
            "text/html": [
              "<div>\n",
              "<style scoped>\n",
              "    .dataframe tbody tr th:only-of-type {\n",
              "        vertical-align: middle;\n",
              "    }\n",
              "\n",
              "    .dataframe tbody tr th {\n",
              "        vertical-align: top;\n",
              "    }\n",
              "\n",
              "    .dataframe thead th {\n",
              "        text-align: right;\n",
              "    }\n",
              "</style>\n",
              "<table border=\"1\" class=\"dataframe\">\n",
              "  <thead>\n",
              "    <tr style=\"text-align: right;\">\n",
              "      <th></th>\n",
              "      <th>heartbeat_values_model</th>\n",
              "      <th>heartbeat_times_model</th>\n",
              "      <th>video</th>\n",
              "      <th>predicted_bin</th>\n",
              "    </tr>\n",
              "  </thead>\n",
              "  <tbody>\n",
              "    <tr>\n",
              "      <th>0</th>\n",
              "      <td>79.362904</td>\n",
              "      <td>0.633</td>\n",
              "      <td>видео по 1 шаблону пульс 90-80</td>\n",
              "      <td>1</td>\n",
              "    </tr>\n",
              "    <tr>\n",
              "      <th>1</th>\n",
              "      <td>76.655282</td>\n",
              "      <td>0.667</td>\n",
              "      <td>видео по 1 шаблону пульс 90-80</td>\n",
              "      <td>1</td>\n",
              "    </tr>\n",
              "    <tr>\n",
              "      <th>2</th>\n",
              "      <td>73.947661</td>\n",
              "      <td>0.700</td>\n",
              "      <td>видео по 1 шаблону пульс 90-80</td>\n",
              "      <td>1</td>\n",
              "    </tr>\n",
              "  </tbody>\n",
              "</table>\n",
              "</div>"
            ],
            "text/plain": [
              "   heartbeat_values_model  ...  predicted_bin\n",
              "0               79.362904  ...              1\n",
              "1               76.655282  ...              1\n",
              "2               73.947661  ...              1\n",
              "\n",
              "[3 rows x 4 columns]"
            ]
          },
          "metadata": {
            "tags": []
          },
          "execution_count": 195
        }
      ]
    },
    {
      "cell_type": "code",
      "metadata": {
        "colab": {
          "base_uri": "https://localhost:8080/",
          "height": 110
        },
        "id": "VXU3J1BrFdkI",
        "outputId": "53f57f82-cc06-4441-eeca-0a50af46e011"
      },
      "source": [
        "df_targets[df_targets['heartbeat_times'] == 0.7]"
      ],
      "execution_count": null,
      "outputs": [
        {
          "output_type": "execute_result",
          "data": {
            "text/html": [
              "<div>\n",
              "<style scoped>\n",
              "    .dataframe tbody tr th:only-of-type {\n",
              "        vertical-align: middle;\n",
              "    }\n",
              "\n",
              "    .dataframe tbody tr th {\n",
              "        vertical-align: top;\n",
              "    }\n",
              "\n",
              "    .dataframe thead th {\n",
              "        text-align: right;\n",
              "    }\n",
              "</style>\n",
              "<table border=\"1\" class=\"dataframe\">\n",
              "  <thead>\n",
              "    <tr style=\"text-align: right;\">\n",
              "      <th></th>\n",
              "      <th>video</th>\n",
              "      <th>heartbeat_times</th>\n",
              "      <th>target_bin</th>\n",
              "    </tr>\n",
              "  </thead>\n",
              "  <tbody>\n",
              "    <tr>\n",
              "      <th>21</th>\n",
              "      <td>пульс 142-108 3-4 шаблон</td>\n",
              "      <td>0.7</td>\n",
              "      <td>3</td>\n",
              "    </tr>\n",
              "    <tr>\n",
              "      <th>21</th>\n",
              "      <td>спокойное дыхание пульс 90</td>\n",
              "      <td>0.7</td>\n",
              "      <td>1</td>\n",
              "    </tr>\n",
              "  </tbody>\n",
              "</table>\n",
              "</div>"
            ],
            "text/plain": [
              "                         video  heartbeat_times  target_bin\n",
              "21    пульс 142-108 3-4 шаблон              0.7           3\n",
              "21  спокойное дыхание пульс 90              0.7           1"
            ]
          },
          "metadata": {
            "tags": []
          },
          "execution_count": 198
        }
      ]
    },
    {
      "cell_type": "code",
      "metadata": {
        "colab": {
          "base_uri": "https://localhost:8080/",
          "height": 245
        },
        "id": "rSaRjlOSOXO4",
        "outputId": "224b24d7-72a5-48f0-a85a-fcec36e23965"
      },
      "source": [
        "# Соедениям предсказанный и размеченный таргет\n",
        "df = df_to_be_extended.merge(df_targets, how = 'left', left_on=['video', 'heartbeat_times_model'],\n",
        "                             right_on = ['video', 'heartbeat_times'])\n",
        "df.head(3)"
      ],
      "execution_count": null,
      "outputs": [
        {
          "output_type": "execute_result",
          "data": {
            "text/html": [
              "<div>\n",
              "<style scoped>\n",
              "    .dataframe tbody tr th:only-of-type {\n",
              "        vertical-align: middle;\n",
              "    }\n",
              "\n",
              "    .dataframe tbody tr th {\n",
              "        vertical-align: top;\n",
              "    }\n",
              "\n",
              "    .dataframe thead th {\n",
              "        text-align: right;\n",
              "    }\n",
              "</style>\n",
              "<table border=\"1\" class=\"dataframe\">\n",
              "  <thead>\n",
              "    <tr style=\"text-align: right;\">\n",
              "      <th></th>\n",
              "      <th>heartbeat_values_model</th>\n",
              "      <th>heartbeat_times_model</th>\n",
              "      <th>video</th>\n",
              "      <th>predicted_bin</th>\n",
              "      <th>heartbeat_times</th>\n",
              "      <th>target_bin</th>\n",
              "    </tr>\n",
              "  </thead>\n",
              "  <tbody>\n",
              "    <tr>\n",
              "      <th>0</th>\n",
              "      <td>79.362904</td>\n",
              "      <td>0.633</td>\n",
              "      <td>видео по 1 шаблону пульс 90-80</td>\n",
              "      <td>1</td>\n",
              "      <td>NaN</td>\n",
              "      <td>NaN</td>\n",
              "    </tr>\n",
              "    <tr>\n",
              "      <th>1</th>\n",
              "      <td>76.655282</td>\n",
              "      <td>0.667</td>\n",
              "      <td>видео по 1 шаблону пульс 90-80</td>\n",
              "      <td>1</td>\n",
              "      <td>0.667</td>\n",
              "      <td>1.0</td>\n",
              "    </tr>\n",
              "    <tr>\n",
              "      <th>2</th>\n",
              "      <td>73.947661</td>\n",
              "      <td>0.700</td>\n",
              "      <td>видео по 1 шаблону пульс 90-80</td>\n",
              "      <td>1</td>\n",
              "      <td>NaN</td>\n",
              "      <td>NaN</td>\n",
              "    </tr>\n",
              "  </tbody>\n",
              "</table>\n",
              "</div>"
            ],
            "text/plain": [
              "   heartbeat_values_model  heartbeat_times_model  ... heartbeat_times  target_bin\n",
              "0               79.362904                  0.633  ...             NaN         NaN\n",
              "1               76.655282                  0.667  ...           0.667         1.0\n",
              "2               73.947661                  0.700  ...             NaN         NaN\n",
              "\n",
              "[3 rows x 6 columns]"
            ]
          },
          "metadata": {
            "tags": []
          },
          "execution_count": 193
        }
      ]
    },
    {
      "cell_type": "code",
      "metadata": {
        "id": "H_hVC2iOSSZd"
      },
      "source": [
        "# На всякий случай заполнеие NA\n",
        "df['heartbeat_times'] = df['heartbeat_times'].fillna(df['heartbeat_times_model'])\n",
        "df['target_bin'] = df.apply(get_target_pulse, axis = 1)"
      ],
      "execution_count": null,
      "outputs": []
    },
    {
      "cell_type": "code",
      "metadata": {
        "colab": {
          "base_uri": "https://localhost:8080/"
        },
        "id": "2Hj-jDCfRjjr",
        "outputId": "4b7da161-e373-4187-8586-06b3c20d76a2"
      },
      "source": [
        "# Расчитаем взвешенную Accuracy\n",
        "from sklearn.metrics import balanced_accuracy_score\n",
        "balanced_accuracy_score(df['target_bin'], df['predicted_bin'])"
      ],
      "execution_count": null,
      "outputs": [
        {
          "output_type": "execute_result",
          "data": {
            "text/plain": [
              "0.33297363112234585"
            ]
          },
          "metadata": {
            "tags": []
          },
          "execution_count": 200
        }
      ]
    },
    {
      "cell_type": "code",
      "metadata": {
        "colab": {
          "base_uri": "https://localhost:8080/",
          "height": 415
        },
        "id": "YVUc6qGjaOzQ",
        "outputId": "d061cab2-19ae-4185-8712-bd24e336824e"
      },
      "source": [
        "# Предсказываем для тестового видео\n",
        "test_df = pd.DataFrame(columns=['heartbeat_values_model', 'heartbeat_times_model', 'video'])\n",
        "\n",
        "image = sec_5_cadr('Видео для теста', 'Test/')\n",
        "face_origin = get_bbox(image)\n",
        "test_df = predict_pulse('Видео для теста', face_origin, test_df, 'Test/')\n",
        "\n",
        "test_df"
      ],
      "execution_count": null,
      "outputs": [
        {
          "output_type": "execute_result",
          "data": {
            "text/html": [
              "<div>\n",
              "<style scoped>\n",
              "    .dataframe tbody tr th:only-of-type {\n",
              "        vertical-align: middle;\n",
              "    }\n",
              "\n",
              "    .dataframe tbody tr th {\n",
              "        vertical-align: top;\n",
              "    }\n",
              "\n",
              "    .dataframe thead th {\n",
              "        text-align: right;\n",
              "    }\n",
              "</style>\n",
              "<table border=\"1\" class=\"dataframe\">\n",
              "  <thead>\n",
              "    <tr style=\"text-align: right;\">\n",
              "      <th></th>\n",
              "      <th>heartbeat_values_model</th>\n",
              "      <th>heartbeat_times_model</th>\n",
              "      <th>video</th>\n",
              "    </tr>\n",
              "  </thead>\n",
              "  <tbody>\n",
              "    <tr>\n",
              "      <th>0</th>\n",
              "      <td>98.250719</td>\n",
              "      <td>1.433333</td>\n",
              "      <td>Видео для теста</td>\n",
              "    </tr>\n",
              "    <tr>\n",
              "      <th>1</th>\n",
              "      <td>96.910421</td>\n",
              "      <td>1.466667</td>\n",
              "      <td>Видео для теста</td>\n",
              "    </tr>\n",
              "    <tr>\n",
              "      <th>2</th>\n",
              "      <td>95.570124</td>\n",
              "      <td>1.500000</td>\n",
              "      <td>Видео для теста</td>\n",
              "    </tr>\n",
              "    <tr>\n",
              "      <th>3</th>\n",
              "      <td>94.229826</td>\n",
              "      <td>1.533333</td>\n",
              "      <td>Видео для теста</td>\n",
              "    </tr>\n",
              "    <tr>\n",
              "      <th>4</th>\n",
              "      <td>92.889528</td>\n",
              "      <td>1.566667</td>\n",
              "      <td>Видео для теста</td>\n",
              "    </tr>\n",
              "    <tr>\n",
              "      <th>...</th>\n",
              "      <td>...</td>\n",
              "      <td>...</td>\n",
              "      <td>...</td>\n",
              "    </tr>\n",
              "    <tr>\n",
              "      <th>2195</th>\n",
              "      <td>41.559819</td>\n",
              "      <td>74.600000</td>\n",
              "      <td>Видео для теста</td>\n",
              "    </tr>\n",
              "    <tr>\n",
              "      <th>2196</th>\n",
              "      <td>41.429673</td>\n",
              "      <td>74.633333</td>\n",
              "      <td>Видео для теста</td>\n",
              "    </tr>\n",
              "    <tr>\n",
              "      <th>2197</th>\n",
              "      <td>41.299528</td>\n",
              "      <td>74.666667</td>\n",
              "      <td>Видео для теста</td>\n",
              "    </tr>\n",
              "    <tr>\n",
              "      <th>2198</th>\n",
              "      <td>41.169382</td>\n",
              "      <td>74.700000</td>\n",
              "      <td>Видео для теста</td>\n",
              "    </tr>\n",
              "    <tr>\n",
              "      <th>2199</th>\n",
              "      <td>41.039236</td>\n",
              "      <td>74.733333</td>\n",
              "      <td>Видео для теста</td>\n",
              "    </tr>\n",
              "  </tbody>\n",
              "</table>\n",
              "<p>2200 rows × 3 columns</p>\n",
              "</div>"
            ],
            "text/plain": [
              "      heartbeat_values_model  heartbeat_times_model            video\n",
              "0                  98.250719               1.433333  Видео для теста\n",
              "1                  96.910421               1.466667  Видео для теста\n",
              "2                  95.570124               1.500000  Видео для теста\n",
              "3                  94.229826               1.533333  Видео для теста\n",
              "4                  92.889528               1.566667  Видео для теста\n",
              "...                      ...                    ...              ...\n",
              "2195               41.559819              74.600000  Видео для теста\n",
              "2196               41.429673              74.633333  Видео для теста\n",
              "2197               41.299528              74.666667  Видео для теста\n",
              "2198               41.169382              74.700000  Видео для теста\n",
              "2199               41.039236              74.733333  Видео для теста\n",
              "\n",
              "[2200 rows x 3 columns]"
            ]
          },
          "metadata": {
            "tags": []
          },
          "execution_count": 201
        }
      ]
    },
    {
      "cell_type": "markdown",
      "metadata": {
        "id": "LPzuaGJxinB0"
      },
      "source": [
        "Нашли теоретическую формулу для связи дыхания и пульса http://disser.ru/library/35/260.htm"
      ]
    },
    {
      "cell_type": "code",
      "metadata": {
        "colab": {
          "base_uri": "https://localhost:8080/",
          "height": 141
        },
        "id": "lnxZfYT7hHSp",
        "outputId": "c45d6523-3849-4dd3-f194-ef87a7f995ec"
      },
      "source": [
        "# Частота дыхания\n",
        "test_df['breath_rate'] = (test_df['heartbeat_values_model'] - 48.516) / 0.8927\n",
        "test_df.head(3)"
      ],
      "execution_count": null,
      "outputs": [
        {
          "output_type": "execute_result",
          "data": {
            "text/html": [
              "<div>\n",
              "<style scoped>\n",
              "    .dataframe tbody tr th:only-of-type {\n",
              "        vertical-align: middle;\n",
              "    }\n",
              "\n",
              "    .dataframe tbody tr th {\n",
              "        vertical-align: top;\n",
              "    }\n",
              "\n",
              "    .dataframe thead th {\n",
              "        text-align: right;\n",
              "    }\n",
              "</style>\n",
              "<table border=\"1\" class=\"dataframe\">\n",
              "  <thead>\n",
              "    <tr style=\"text-align: right;\">\n",
              "      <th></th>\n",
              "      <th>heartbeat_values_model</th>\n",
              "      <th>heartbeat_times_model</th>\n",
              "      <th>video</th>\n",
              "      <th>breath_rate</th>\n",
              "    </tr>\n",
              "  </thead>\n",
              "  <tbody>\n",
              "    <tr>\n",
              "      <th>0</th>\n",
              "      <td>98.250719</td>\n",
              "      <td>1.433333</td>\n",
              "      <td>Видео для теста</td>\n",
              "      <td>55.712691</td>\n",
              "    </tr>\n",
              "    <tr>\n",
              "      <th>1</th>\n",
              "      <td>96.910421</td>\n",
              "      <td>1.466667</td>\n",
              "      <td>Видео для теста</td>\n",
              "      <td>54.211293</td>\n",
              "    </tr>\n",
              "    <tr>\n",
              "      <th>2</th>\n",
              "      <td>95.570124</td>\n",
              "      <td>1.500000</td>\n",
              "      <td>Видео для теста</td>\n",
              "      <td>52.709895</td>\n",
              "    </tr>\n",
              "  </tbody>\n",
              "</table>\n",
              "</div>"
            ],
            "text/plain": [
              "   heartbeat_values_model  heartbeat_times_model            video  breath_rate\n",
              "0               98.250719               1.433333  Видео для теста    55.712691\n",
              "1               96.910421               1.466667  Видео для теста    54.211293\n",
              "2               95.570124               1.500000  Видео для теста    52.709895"
            ]
          },
          "metadata": {
            "tags": []
          },
          "execution_count": 202
        }
      ]
    }
  ]
}